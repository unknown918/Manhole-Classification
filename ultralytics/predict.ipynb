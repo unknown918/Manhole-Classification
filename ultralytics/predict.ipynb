{
 "cells": [
  {
   "cell_type": "code",
   "execution_count": null,
   "id": "initial_id",
   "metadata": {
    "collapsed": true
   },
   "outputs": [],
   "source": []
  },
  {
   "cell_type": "code",
   "outputs": [
    {
     "name": "stdout",
     "output_type": "stream",
     "text": [
      "image 1/1 D:\\develop\\code\\python\\ML\\YOLO\\ultralytics-8.1.0\\ultralytics\\assets\\zidane.jpg: 384x640 2 persons, 1 tie, 563.8ms\n",
      "Speed: 21.5ms preprocess, 563.8ms inference, 44.7ms postprocess per image at shape (1, 3, 384, 640)\n"
     ]
    }
   ],
   "source": [
    "from ultralytics import YOLO\n",
    "\n",
    "# Load model\n",
    "model = YOLO(\"./yolov8n.pt\", task='predict')\n",
    "\n",
    "# Predict\n",
    "results = model(source=\"ultralytics/assets/zidane.jpg\")"
   ],
   "metadata": {
    "collapsed": false,
    "ExecuteTime": {
     "end_time": "2024-03-24T09:29:20.355118Z",
     "start_time": "2024-03-24T09:28:54.948765Z"
    }
   },
   "id": "c4c9262c9b73926d",
   "execution_count": 1
  },
  {
   "cell_type": "code",
   "outputs": [
    {
     "data": {
      "text/plain": "ultralytics.engine.results.Results object with attributes:\n\nboxes: ultralytics.engine.results.Boxes object\nkeypoints: None\nmasks: None\nnames: {0: 'person', 1: 'bicycle', 2: 'car', 3: 'motorcycle', 4: 'airplane', 5: 'bus', 6: 'train', 7: 'truck', 8: 'boat', 9: 'traffic light', 10: 'fire hydrant', 11: 'stop sign', 12: 'parking meter', 13: 'bench', 14: 'bird', 15: 'cat', 16: 'dog', 17: 'horse', 18: 'sheep', 19: 'cow', 20: 'elephant', 21: 'bear', 22: 'zebra', 23: 'giraffe', 24: 'backpack', 25: 'umbrella', 26: 'handbag', 27: 'tie', 28: 'suitcase', 29: 'frisbee', 30: 'skis', 31: 'snowboard', 32: 'sports ball', 33: 'kite', 34: 'baseball bat', 35: 'baseball glove', 36: 'skateboard', 37: 'surfboard', 38: 'tennis racket', 39: 'bottle', 40: 'wine glass', 41: 'cup', 42: 'fork', 43: 'knife', 44: 'spoon', 45: 'bowl', 46: 'banana', 47: 'apple', 48: 'sandwich', 49: 'orange', 50: 'broccoli', 51: 'carrot', 52: 'hot dog', 53: 'pizza', 54: 'donut', 55: 'cake', 56: 'chair', 57: 'couch', 58: 'potted plant', 59: 'bed', 60: 'dining table', 61: 'toilet', 62: 'tv', 63: 'laptop', 64: 'mouse', 65: 'remote', 66: 'keyboard', 67: 'cell phone', 68: 'microwave', 69: 'oven', 70: 'toaster', 71: 'sink', 72: 'refrigerator', 73: 'book', 74: 'clock', 75: 'vase', 76: 'scissors', 77: 'teddy bear', 78: 'hair drier', 79: 'toothbrush'}\nobb: None\norig_img: array([[[44, 51, 76],\n        [43, 50, 75],\n        [41, 48, 73],\n        ...,\n        [20, 18, 54],\n        [18, 16, 52],\n        [17, 15, 51]],\n\n       [[44, 51, 76],\n        [43, 50, 75],\n        [41, 48, 73],\n        ...,\n        [20, 18, 54],\n        [18, 16, 52],\n        [18, 16, 52]],\n\n       [[44, 51, 76],\n        [43, 50, 75],\n        [41, 48, 73],\n        ...,\n        [21, 18, 57],\n        [19, 16, 55],\n        [18, 15, 54]],\n\n       ...,\n\n       [[53, 44, 40],\n        [52, 43, 39],\n        [51, 42, 38],\n        ...,\n        [50, 50, 38],\n        [51, 51, 39],\n        [52, 52, 40]],\n\n       [[53, 44, 40],\n        [52, 43, 39],\n        [51, 42, 38],\n        ...,\n        [50, 50, 38],\n        [51, 51, 39],\n        [52, 52, 40]],\n\n       [[53, 44, 40],\n        [52, 43, 39],\n        [51, 42, 38],\n        ...,\n        [49, 49, 37],\n        [51, 51, 39],\n        [52, 52, 40]]], dtype=uint8)\norig_shape: (720, 1280)\npath: 'D:\\\\develop\\\\code\\\\python\\\\ML\\\\YOLO\\\\ultralytics-8.1.0\\\\ultralytics\\\\assets\\\\zidane.jpg'\nprobs: None\nsave_dir: None\nspeed: {'preprocess': 21.45671844482422, 'inference': 563.8227462768555, 'postprocess': 44.72827911376953}"
     },
     "execution_count": 3,
     "metadata": {},
     "output_type": "execute_result"
    }
   ],
   "source": [
    "results[0]"
   ],
   "metadata": {
    "collapsed": false,
    "ExecuteTime": {
     "end_time": "2024-03-24T09:30:02.280132Z",
     "start_time": "2024-03-24T09:30:02.269371Z"
    }
   },
   "id": "5068b9c16d09832f",
   "execution_count": 3
  },
  {
   "cell_type": "code",
   "outputs": [
    {
     "data": {
      "text/plain": "ultralytics.engine.results.Boxes object with attributes:\n\ncls: tensor([ 0.,  0., 27.], device='cuda:0')\nconf: tensor([0.8359, 0.8189, 0.2911], device='cuda:0')\ndata: tensor([[1.1485e+02, 1.9742e+02, 1.1145e+03, 7.1188e+02, 8.3591e-01, 0.0000e+00],\n        [7.4847e+02, 4.1849e+01, 1.1431e+03, 7.1301e+02, 8.1892e-01, 0.0000e+00],\n        [4.3948e+02, 4.3707e+02, 5.2435e+02, 7.0916e+02, 2.9108e-01, 2.7000e+01]], device='cuda:0')\nid: None\nis_track: False\norig_shape: (720, 1280)\nshape: torch.Size([3, 6])\nxywh: tensor([[614.6768, 454.6483, 999.6501, 514.4648],\n        [945.7786, 377.4307, 394.6155, 671.1624],\n        [481.9150, 573.1162,  84.8715, 272.0923]], device='cuda:0')\nxywhn: tensor([[0.4802, 0.6315, 0.7810, 0.7145],\n        [0.7389, 0.5242, 0.3083, 0.9322],\n        [0.3765, 0.7960, 0.0663, 0.3779]], device='cuda:0')\nxyxy: tensor([[ 114.8517,  197.4158, 1114.5018,  711.8807],\n        [ 748.4708,   41.8495, 1143.0863,  713.0119],\n        [ 439.4792,  437.0700,  524.3507,  709.1624]], device='cuda:0')\nxyxyn: tensor([[0.0897, 0.2742, 0.8707, 0.9887],\n        [0.5847, 0.0581, 0.8930, 0.9903],\n        [0.3433, 0.6070, 0.4096, 0.9849]], device='cuda:0')"
     },
     "execution_count": 4,
     "metadata": {},
     "output_type": "execute_result"
    }
   ],
   "source": [
    "results[0].boxes"
   ],
   "metadata": {
    "collapsed": false,
    "ExecuteTime": {
     "end_time": "2024-03-24T09:31:50.534515Z",
     "start_time": "2024-03-24T09:31:50.444529Z"
    }
   },
   "id": "334fa8fca2ff67d3",
   "execution_count": 4
  },
  {
   "cell_type": "code",
   "outputs": [],
   "source": [],
   "metadata": {
    "collapsed": false
   },
   "id": "28a2c411eebae486"
  }
 ],
 "metadata": {
  "kernelspec": {
   "display_name": "Python 3",
   "language": "python",
   "name": "python3"
  },
  "language_info": {
   "codemirror_mode": {
    "name": "ipython",
    "version": 2
   },
   "file_extension": ".py",
   "mimetype": "text/x-python",
   "name": "python",
   "nbconvert_exporter": "python",
   "pygments_lexer": "ipython2",
   "version": "2.7.6"
  }
 },
 "nbformat": 4,
 "nbformat_minor": 5
}
